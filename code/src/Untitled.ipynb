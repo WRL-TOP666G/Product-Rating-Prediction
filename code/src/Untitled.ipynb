{
 "cells": [
  {
   "cell_type": "code",
   "execution_count": 58,
   "metadata": {},
   "outputs": [],
   "source": [
    "import gzip\n",
    "import string\n",
    "from collections import defaultdict\n",
    "import matplotlib.pyplot as plt\n",
    "from IPython.display import clear_output\n",
    "import string\n",
    "import random\n",
    "import math\n",
    "import json\n",
    "\n",
    "\n",
    "from sklearn import svm\n",
    "from sklearn.neighbors import KNeighborsClassifier\n",
    "from sklearn.linear_model import LogisticRegression\n",
    "import sklearn.preprocessing"
   ]
  },
  {
   "cell_type": "code",
   "execution_count": 59,
   "metadata": {},
   "outputs": [],
   "source": [
    "\n",
    "f = open('train_wordbag.txt','r')\n",
    "\n",
    "X_train_uni = json.loads(f.readline())\n",
    "X_train_bi = json.loads(f.readline())\n",
    "y_train = json.loads(f.readline())\n",
    "\n",
    "\n",
    "\n",
    "f.close()"
   ]
  },
  {
   "cell_type": "code",
   "execution_count": 60,
   "metadata": {},
   "outputs": [],
   "source": [
    "f = open('train_tfidf.txt','r')\n",
    "\n",
    "X_train_uni_tfidf = json.loads(f.readline())\n",
    "X_train_bi_tfidf = json.loads(f.readline())\n",
    "\n",
    "f.close()"
   ]
  },
  {
   "cell_type": "code",
   "execution_count": 61,
   "metadata": {},
   "outputs": [],
   "source": [
    "\n",
    "f = open('val_wordbag.txt','r')\n",
    "X_val_uni = json.loads(f.readline())\n",
    "X_val_bi = json.loads(f.readline())\n",
    "y_val = json.loads(f.readline())\n",
    "\n",
    "f.close()"
   ]
  },
  {
   "cell_type": "code",
   "execution_count": 62,
   "metadata": {},
   "outputs": [],
   "source": [
    "\n",
    "f = open('val_tfidf.txt','r')\n",
    "X_val_uni_tfidf = json.loads(f.readline())\n",
    "X_val_bi_tfidf = json.loads(f.readline())\n",
    "\n",
    "f.close()"
   ]
  },
  {
   "cell_type": "code",
   "execution_count": 63,
   "metadata": {},
   "outputs": [],
   "source": [
    "f = open('test_wordbag.txt','r')\n",
    "X_test_uni = json.loads(f.readline())\n",
    "X_test_bi = json.loads(f.readline())\n",
    "y_test = json.loads(f.readline())\n",
    "\n",
    "f.close()"
   ]
  },
  {
   "cell_type": "code",
   "execution_count": 64,
   "metadata": {},
   "outputs": [],
   "source": [
    "f = open('test_tfidf.txt','r')\n",
    "X_test_uni_tfidf = json.loads(f.readline())\n",
    "X_test_bi_tfidf = json.loads(f.readline())\n",
    "\n",
    "f.close()"
   ]
  },
  {
   "cell_type": "code",
   "execution_count": 65,
   "metadata": {},
   "outputs": [],
   "source": [
    "# accuracy\n",
    "def accuracy(y_pred, y):\n",
    "    return sum([True for i in range(len(y)) if y_pred[i] == y[i]])/len(y)"
   ]
  },
  {
   "cell_type": "code",
   "execution_count": 66,
   "metadata": {},
   "outputs": [],
   "source": [
    "#normalization\n",
    "X_train_uni = sklearn.preprocessing.normalize(X_train_uni)\n",
    "X_train_bi = sklearn.preprocessing.normalize(X_train_bi)"
   ]
  },
  {
   "cell_type": "code",
   "execution_count": 67,
   "metadata": {},
   "outputs": [],
   "source": [
    "#normalization\n",
    "X_val_uni = sklearn.preprocessing.normalize(X_val_uni)\n",
    "X_val_bi = sklearn.preprocessing.normalize(X_val_bi)"
   ]
  },
  {
   "cell_type": "code",
   "execution_count": 68,
   "metadata": {},
   "outputs": [],
   "source": [
    "#normalization\n",
    "X_test_uni = sklearn.preprocessing.normalize(X_test_uni)\n",
    "X_test_bi = sklearn.preprocessing.normalize(X_test_bi)"
   ]
  },
  {
   "cell_type": "markdown",
   "metadata": {},
   "source": [
    "# MODEL\n",
    "1. KNN"
   ]
  },
  {
   "cell_type": "code",
   "execution_count": null,
   "metadata": {},
   "outputs": [],
   "source": []
  },
  {
   "cell_type": "code",
   "execution_count": 71,
   "metadata": {},
   "outputs": [
    {
     "name": "stdout",
     "output_type": "stream",
     "text": [
      "0.734\n"
     ]
    }
   ],
   "source": [
    "#KNN #unigram\n",
    "knn_uni = KNeighborsClassifier(n_neighbors=5, algorithm='ball_tree')\n",
    "knn_uni.fit(X_train_uni, y_train)\n",
    "\n",
    "y_pred = knn_uni.predict(X_train_uni[14000:15000])\n",
    "print(accuracy(y_pred,y_train[14000:15000]))"
   ]
  },
  {
   "cell_type": "code",
   "execution_count": 72,
   "metadata": {},
   "outputs": [
    {
     "name": "stdout",
     "output_type": "stream",
     "text": [
      "0.619\n"
     ]
    }
   ],
   "source": [
    "#KNN #unigram\n",
    "#validation\n",
    "y_pred = knn_uni.predict(X_val_uni[4000:5000])\n",
    "print(accuracy(y_pred,y_val[4000:5000]))"
   ]
  },
  {
   "cell_type": "code",
   "execution_count": 73,
   "metadata": {},
   "outputs": [
    {
     "name": "stdout",
     "output_type": "stream",
     "text": [
      "0.623\n"
     ]
    }
   ],
   "source": [
    "y_test_pred = knn_uni.predict(X_test_uni[4000:5000])\n",
    "print(accuracy(y_test_pred, y_test[4000:5000]))"
   ]
  },
  {
   "cell_type": "code",
   "execution_count": null,
   "metadata": {},
   "outputs": [],
   "source": []
  },
  {
   "cell_type": "code",
   "execution_count": null,
   "metadata": {},
   "outputs": [],
   "source": []
  },
  {
   "cell_type": "code",
   "execution_count": 79,
   "metadata": {},
   "outputs": [
    {
     "name": "stdout",
     "output_type": "stream",
     "text": [
      "0.739\n"
     ]
    }
   ],
   "source": [
    "#KNN #bigram\n",
    "knn_bi = KNeighborsClassifier(n_neighbors=5, algorithm='ball_tree')\n",
    "knn_bi.fit(X_train_bi, y_train)\n",
    "\n",
    "y_pred = knn_bi.predict(X_train_bi[14000:15000])\n",
    "print(accuracy(y_pred,y_train[14000:15000]))"
   ]
  },
  {
   "cell_type": "code",
   "execution_count": 80,
   "metadata": {},
   "outputs": [
    {
     "name": "stdout",
     "output_type": "stream",
     "text": [
      "0.663\n"
     ]
    }
   ],
   "source": [
    "#KNN #bigram\n",
    "#validation\n",
    "y_pred = knn_bi.predict(X_val_bi[4000:5000])\n",
    "print(accuracy(y_pred,y_val[4000:5000]))"
   ]
  },
  {
   "cell_type": "code",
   "execution_count": 81,
   "metadata": {},
   "outputs": [
    {
     "name": "stdout",
     "output_type": "stream",
     "text": [
      "0.668\n"
     ]
    }
   ],
   "source": [
    "y_test_pred = knn_bi.predict(X_test_bi[4000:5000])\n",
    "print(accuracy(y_test_pred, y_test[4000:5000]))"
   ]
  },
  {
   "cell_type": "code",
   "execution_count": null,
   "metadata": {},
   "outputs": [],
   "source": []
  },
  {
   "cell_type": "code",
   "execution_count": 82,
   "metadata": {},
   "outputs": [
    {
     "name": "stdout",
     "output_type": "stream",
     "text": [
      "0.721\n"
     ]
    }
   ],
   "source": [
    "#KNN #unigram #tfidf\n",
    "knn_uni_tfidf = KNeighborsClassifier(n_neighbors=5, algorithm='ball_tree')\n",
    "knn_uni_tfidf.fit(X_train_uni_tfidf, y_train)\n",
    "\n",
    "y_pred = knn_uni_tfidf.predict(X_train_uni_tfidf[14000:15000])\n",
    "print(accuracy(y_pred,y_train[14000:15000]))"
   ]
  },
  {
   "cell_type": "code",
   "execution_count": 83,
   "metadata": {},
   "outputs": [
    {
     "name": "stdout",
     "output_type": "stream",
     "text": [
      "0.641\n"
     ]
    }
   ],
   "source": [
    "#KNN #unigram #tfidf\n",
    "#validation\n",
    "y_pred = knn_uni_tfidf.predict(X_val_uni_tfidf[4000:5000])\n",
    "print(accuracy(y_pred,y_val[4000:5000]))"
   ]
  },
  {
   "cell_type": "code",
   "execution_count": 84,
   "metadata": {},
   "outputs": [
    {
     "name": "stdout",
     "output_type": "stream",
     "text": [
      "0.623\n"
     ]
    }
   ],
   "source": [
    "y_test_pred = knn_uni.predict(X_test_uni[4000:5000])\n",
    "print(accuracy(y_test_pred, y_test[4000:5000]))"
   ]
  },
  {
   "cell_type": "code",
   "execution_count": null,
   "metadata": {},
   "outputs": [],
   "source": []
  },
  {
   "cell_type": "code",
   "execution_count": null,
   "metadata": {},
   "outputs": [],
   "source": []
  },
  {
   "cell_type": "code",
   "execution_count": 85,
   "metadata": {},
   "outputs": [
    {
     "name": "stdout",
     "output_type": "stream",
     "text": [
      "0.733\n"
     ]
    }
   ],
   "source": [
    "#KNN #bigram #tfidf\n",
    "knn_bi_tfidf = KNeighborsClassifier(n_neighbors=5, algorithm='ball_tree')\n",
    "knn_bi_tfidf.fit(X_train_bi_tfidf, y_train)\n",
    "\n",
    "y_pred = knn_bi_tfidf.predict(X_train_bi_tfidf[14000:15000])\n",
    "print(accuracy(y_pred,y_train[14000:15000]))"
   ]
  },
  {
   "cell_type": "code",
   "execution_count": 86,
   "metadata": {},
   "outputs": [
    {
     "name": "stdout",
     "output_type": "stream",
     "text": [
      "0.667\n"
     ]
    }
   ],
   "source": [
    "#KNN #bigram #tfidf\n",
    "#validation\n",
    "y_pred = knn_bi_tfidf.predict(X_val_bi_tfidf[4000:5000])\n",
    "print(accuracy(y_pred,y_val[4000:5000]))"
   ]
  },
  {
   "cell_type": "code",
   "execution_count": 87,
   "metadata": {},
   "outputs": [
    {
     "name": "stdout",
     "output_type": "stream",
     "text": [
      "0.668\n"
     ]
    }
   ],
   "source": [
    "y_test_pred = knn_bi.predict(X_test_bi[4000:5000])\n",
    "print(accuracy(y_test_pred, y_test[4000:5000]))"
   ]
  },
  {
   "cell_type": "code",
   "execution_count": null,
   "metadata": {},
   "outputs": [],
   "source": []
  },
  {
   "cell_type": "code",
   "execution_count": null,
   "metadata": {},
   "outputs": [],
   "source": []
  },
  {
   "cell_type": "code",
   "execution_count": null,
   "metadata": {},
   "outputs": [],
   "source": []
  },
  {
   "cell_type": "code",
   "execution_count": null,
   "metadata": {},
   "outputs": [],
   "source": []
  },
  {
   "cell_type": "code",
   "execution_count": null,
   "metadata": {},
   "outputs": [],
   "source": []
  },
  {
   "cell_type": "code",
   "execution_count": null,
   "metadata": {},
   "outputs": [],
   "source": []
  },
  {
   "cell_type": "code",
   "execution_count": 23,
   "metadata": {},
   "outputs": [
    {
     "name": "stdout",
     "output_type": "stream",
     "text": [
      "0.744\n"
     ]
    },
    {
     "name": "stderr",
     "output_type": "stream",
     "text": [
      "/opt/conda/lib/python3.7/site-packages/sklearn/linear_model/_sag.py:330: ConvergenceWarning: The max_iter was reached which means the coef_ did not converge\n",
      "  \"the coef_ did not converge\", ConvergenceWarning)\n"
     ]
    }
   ],
   "source": [
    "# Logistic Regress #unigram\n",
    "clf_uni = LogisticRegression(C=100, solver = 'saga')\n",
    "clf_uni.fit(X_train_uni, y_train)\n",
    "y_pred = clf_uni.predict(X_train_uni[14000:15000])\n",
    "print(accuracy(y_pred,y_train[14000:15000]))"
   ]
  },
  {
   "cell_type": "code",
   "execution_count": 24,
   "metadata": {},
   "outputs": [
    {
     "name": "stderr",
     "output_type": "stream",
     "text": [
      "/opt/conda/lib/python3.7/site-packages/sklearn/linear_model/_logistic.py:940: ConvergenceWarning: lbfgs failed to converge (status=1):\n",
      "STOP: TOTAL NO. of ITERATIONS REACHED LIMIT.\n",
      "\n",
      "Increase the number of iterations (max_iter) or scale the data as shown in:\n",
      "    https://scikit-learn.org/stable/modules/preprocessing.html\n",
      "Please also refer to the documentation for alternative solver options:\n",
      "    https://scikit-learn.org/stable/modules/linear_model.html#logistic-regression\n",
      "  extra_warning_msg=_LOGISTIC_SOLVER_CONVERGENCE_MSG)\n"
     ]
    },
    {
     "name": "stdout",
     "output_type": "stream",
     "text": [
      "0.579\n"
     ]
    }
   ],
   "source": [
    "# Logistic Regress #bigram\n",
    "clf_bi = LogisticRegression(C=10, class_weight='balanced')\n",
    "clf_bi.fit(X_train_bi, y_train)\n",
    "y_pred = clf_bi.predict(X_train_bi[14000:15000])\n",
    "print(accuracy(y_pred,y_train[14000:15000]))"
   ]
  },
  {
   "cell_type": "code",
   "execution_count": null,
   "metadata": {},
   "outputs": [],
   "source": []
  },
  {
   "cell_type": "markdown",
   "metadata": {},
   "source": [
    "# 3. SVM"
   ]
  },
  {
   "cell_type": "code",
   "execution_count": 25,
   "metadata": {},
   "outputs": [
    {
     "data": {
      "text/plain": [
       "LinearSVC(C=10, class_weight=None, dual=True, fit_intercept=True,\n",
       "          intercept_scaling=1, loss='squared_hinge', max_iter=1000,\n",
       "          multi_class='ovr', penalty='l2', random_state=None, tol=0.0001,\n",
       "          verbose=0)"
      ]
     },
     "execution_count": 25,
     "metadata": {},
     "output_type": "execute_result"
    }
   ],
   "source": [
    "# SVM #unigram\n",
    "lin_clf_uni = svm.LinearSVC(C=10)\n",
    "lin_clf_uni.fit(X_train_uni, y_train)"
   ]
  },
  {
   "cell_type": "code",
   "execution_count": 26,
   "metadata": {},
   "outputs": [
    {
     "name": "stdout",
     "output_type": "stream",
     "text": [
      "0.738\n"
     ]
    }
   ],
   "source": [
    "y_pred = lin_clf_uni.predict(X_train_uni[14000:15000])\n",
    "print(accuracy(y_pred, y_train[14000:15000]))"
   ]
  },
  {
   "cell_type": "code",
   "execution_count": 27,
   "metadata": {},
   "outputs": [
    {
     "data": {
      "text/plain": [
       "LinearSVC(C=1.0, class_weight=None, dual=True, fit_intercept=True,\n",
       "          intercept_scaling=1, loss='squared_hinge', max_iter=1000,\n",
       "          multi_class='ovr', penalty='l2', random_state=None, tol=0.0001,\n",
       "          verbose=0)"
      ]
     },
     "execution_count": 27,
     "metadata": {},
     "output_type": "execute_result"
    }
   ],
   "source": [
    "# SVM #bigram\n",
    "lin_clf_bi = svm.LinearSVC()\n",
    "lin_clf_bi.fit(X_train_bi, y_train)"
   ]
  },
  {
   "cell_type": "code",
   "execution_count": 28,
   "metadata": {},
   "outputs": [
    {
     "name": "stdout",
     "output_type": "stream",
     "text": [
      "0.724\n"
     ]
    }
   ],
   "source": [
    "y_pred = lin_clf_bi.predict(X_train_bi[14000:15000])\n",
    "print(accuracy(y_pred, y_train[14000:15000]))"
   ]
  },
  {
   "cell_type": "code",
   "execution_count": null,
   "metadata": {},
   "outputs": [],
   "source": []
  }
 ],
 "metadata": {
  "kernelspec": {
   "display_name": "Python 3",
   "language": "python",
   "name": "python3"
  },
  "language_info": {
   "codemirror_mode": {
    "name": "ipython",
    "version": 3
   },
   "file_extension": ".py",
   "mimetype": "text/x-python",
   "name": "python",
   "nbconvert_exporter": "python",
   "pygments_lexer": "ipython3",
   "version": "3.7.6"
  }
 },
 "nbformat": 4,
 "nbformat_minor": 4
}
